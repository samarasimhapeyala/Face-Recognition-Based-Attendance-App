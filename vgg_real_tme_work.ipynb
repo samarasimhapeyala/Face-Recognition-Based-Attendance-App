{
 "cells": [
  {
   "cell_type": "code",
   "execution_count": 1,
   "metadata": {},
   "outputs": [
    {
     "name": "stderr",
     "output_type": "stream",
     "text": [
      "Using TensorFlow backend.\n"
     ]
    }
   ],
   "source": [
    "\n",
    "import numpy as np\n",
    "import cv2\n",
    "\n",
    "from keras.models import Model, Sequential\n",
    "from keras.layers import Input, Convolution2D, ZeroPadding2D, MaxPooling2D, Flatten, Dense, Dropout, Activation\n",
    "from PIL import Image\n",
    "from keras.preprocessing.image import load_img, save_img, img_to_array\n",
    "from keras.applications.imagenet_utils import preprocess_input\n",
    "from keras.preprocessing import image\n",
    "import matplotlib.pyplot as plt\n",
    "\n",
    "from os import listdir"
   ]
  },
  {
   "cell_type": "code",
   "execution_count": 2,
   "metadata": {},
   "outputs": [],
   "source": [
    "color = (67,67,67)\n",
    "\n",
    "face_cascade = cv2.CascadeClassifier('haarcascade_frontalface_default.xml')"
   ]
  },
  {
   "cell_type": "code",
   "execution_count": 3,
   "metadata": {},
   "outputs": [],
   "source": [
    "def preprocess_image(image_path):\n",
    "    img = load_img(image_path, target_size=(224, 224))\n",
    "    img = img_to_array(img)\n",
    "    img = np.expand_dims(img, axis=0)\n",
    "    img = preprocess_input(img)\n",
    "    return img\n"
   ]
  },
  {
   "cell_type": "code",
   "execution_count": null,
   "metadata": {},
   "outputs": [],
   "source": [
    "def loadVggFaceModel():\n",
    "\tmodel = Sequential()\n",
    "\tmodel.add(ZeroPadding2D((1,1),input_shape=(224,224, 3)))\n",
    "\tmodel.add(Convolution2D(64, (3, 3), activation='relu'))\n",
    "\tmodel.add(ZeroPadding2D((1,1)))\n",
    "\tmodel.add(Convolution2D(64, (3, 3), activation='relu'))\n",
    "\tmodel.add(MaxPooling2D((2,2), strides=(2,2)))\n",
    "\n",
    "\tmodel.add(ZeroPadding2D((1,1)))\n",
    "\tmodel.add(Convolution2D(128, (3, 3), activation='relu'))\n",
    "\tmodel.add(ZeroPadding2D((1,1)))\n",
    "\tmodel.add(Convolution2D(128, (3, 3), activation='relu'))\n",
    "\tmodel.add(MaxPooling2D((2,2), strides=(2,2)))\n",
    "\n",
    "\tmodel.add(ZeroPadding2D((1,1)))\n",
    "\tmodel.add(Convolution2D(256, (3, 3), activation='relu'))\n",
    "\tmodel.add(ZeroPadding2D((1,1)))\n",
    "\tmodel.add(Convolution2D(256, (3, 3), activation='relu'))\n",
    "\tmodel.add(ZeroPadding2D((1,1)))\n",
    "\tmodel.add(Convolution2D(256, (3, 3), activation='relu'))\n",
    "\tmodel.add(MaxPooling2D((2,2), strides=(2,2)))\n",
    "\n",
    "\tmodel.add(ZeroPadding2D((1,1)))\n",
    "\tmodel.add(Convolution2D(512, (3, 3), activation='relu'))\n",
    "\tmodel.add(ZeroPadding2D((1,1)))\n",
    "\tmodel.add(Convolution2D(512, (3, 3), activation='relu'))\n",
    "\tmodel.add(ZeroPadding2D((1,1)))\n",
    "\tmodel.add(Convolution2D(512, (3, 3), activation='relu'))\n",
    "\tmodel.add(MaxPooling2D((2,2), strides=(2,2)))\n",
    "\n",
    "\tmodel.add(ZeroPadding2D((1,1)))\n",
    "\tmodel.add(Convolution2D(512, (3, 3), activation='relu'))\n",
    "\tmodel.add(ZeroPadding2D((1,1)))\n",
    "\tmodel.add(Convolution2D(512, (3, 3), activation='relu'))\n",
    "\tmodel.add(ZeroPadding2D((1,1)))\n",
    "\tmodel.add(Convolution2D(512, (3, 3), activation='relu'))\n",
    "\tmodel.add(MaxPooling2D((2,2), strides=(2,2)))\n",
    "\n",
    "\tmodel.add(Convolution2D(4096, (7, 7), activation='relu'))\n",
    "\tmodel.add(Dropout(0.5))\n",
    "\tmodel.add(Convolution2D(4096, (1, 1), activation='relu'))\n",
    "\tmodel.add(Dropout(0.5))\n",
    "\tmodel.add(Convolution2D(2622, (1, 1)))\n",
    "\tmodel.add(Flatten())\n",
    "\tmodel.add(Activation('softmax'))\n",
    "\tfrom keras.models import model_from_json\n",
    "\tmodel.load_weights('vgg_face_weights.h5')\n",
    "\t\n",
    "\tvgg_face_descriptor = Model(inputs=model.layers[0].input, outputs=model.layers[-2].output)\n",
    "\t\n",
    "\treturn vgg_face_descriptor"
   ]
  },
  {
   "cell_type": "code",
   "execution_count": null,
   "metadata": {},
   "outputs": [],
   "source": [
    "model = loadVggFaceModel()\n",
    "\n",
    "employee_pictures = \"dataset/\"\n",
    "\n",
    "employees = dict()\n",
    "\n",
    "for file in listdir(employee_pictures):\n",
    "\temployee, extension = file.split(\".\")\n",
    "\temployees[employee] = model.predict(preprocess_image('dataset/%s.jpg' % (employee)))[0,:]\n",
    "\t\n",
    "print(\"employee representations retrieved successfully\")\n"
   ]
  },
  {
   "cell_type": "code",
   "execution_count": null,
   "metadata": {},
   "outputs": [],
   "source": [
    "def findCosineSimilarity(source_representation, test_representation):\n",
    "    a = np.matmul(np.transpose(source_representation), test_representation)\n",
    "    b = np.sum(np.multiply(source_representation, source_representation))\n",
    "    c = np.sum(np.multiply(test_representation, test_representation))\n",
    "    return 1 - (a / (np.sqrt(b) * np.sqrt(c)))\n",
    "cap = cv2.VideoCapture(0) "
   ]
  },
  {
   "cell_type": "code",
   "execution_count": null,
   "metadata": {},
   "outputs": [],
   "source": [
    "while(True):\n",
    "\tret, img = cap.read()\n",
    "\t\n",
    "\tfaces = face_cascade.detectMultiScale(img, 1.3, 5)\n",
    "\t\n",
    "\tfor (x,y,w,h) in faces:\n",
    "\t\tif w > 130: \n",
    "\t\t\tcv2.rectangle(img, (x,y), (x+w,y+h), (255, 0, 0) , 3)\n",
    "\t\t\tdetected_face = img[int(y):int(y+h), int(x):int(x+w)] \n",
    "\t\t\tdetected_face = cv2.resize(detected_face, (224, 224)) \n",
    "\t\t\t\n",
    "\t\t\timg_pixels = image.img_to_array(detected_face)\n",
    "\t\t\timg_pixels = np.expand_dims(img_pixels, axis = 0)\n",
    "\t\t\timg_pixels /= 127.5\n",
    "\t\t\timg_pixels -= 1\n",
    "\t\t\t\n",
    "\t\t\tcaptured_representation = model.predict(img_pixels)[0,:]\n",
    "\t\t\t\n",
    "\t\t\tfound = 0\n",
    "\t\t\tfor i in employees:\n",
    "\t\t\t\temployee_name = i\n",
    "\t\t\t\trepresentation = employees[i]\n",
    "\t\t\t\t\n",
    "\t\t\t\tsimilarity = findCosineSimilarity(representation, captured_representation)\n",
    "\t\t\t\tif(similarity < 0.30):\n",
    "\t\t\t\t\tcv2.putText(img, employee_name, (int(x+w+15), int(y-12)), cv2.FONT_HERSHEY_SIMPLEX, 1, (255, 0, 0) , 2)\n",
    "\t\t\t\t\t\n",
    "\t\t\t\t\tfound = 1\n",
    "\t\t\t\t\tbreak\n",
    "\t\t\t\t\t\n",
    "\t\t\tcv2.line(img,(int((x+x+w)/2),y+15),(x+w,y-20),color,2)\n",
    "\t\t\tcv2.line(img,(x+w,y-20),(x+w+10,y-20),color,2)\n",
    "\t\t\tif(found == 0): \n",
    "\t\t\t\tcv2.putText(img, 'unknown', (int(x+w+15), int(y-12)), cv2.FONT_HERSHEY_SIMPLEX, 1, color, 2)\n",
    "\t\n",
    "\tcv2.imshow('img',img)\n",
    "\t\n",
    "\tif cv2.waitKey(1) & 0xFF == ord('q'): #press q to quit\n",
    "\t\tbreak\n",
    "\t\n",
    "#kill open cv things\n",
    "cap.release()\n",
    "cv2.destroyAllWindows()"
   ]
  },
  {
   "cell_type": "code",
   "execution_count": null,
   "metadata": {},
   "outputs": [],
   "source": []
  },
  {
   "cell_type": "code",
   "execution_count": null,
   "metadata": {},
   "outputs": [],
   "source": []
  },
  {
   "cell_type": "code",
   "execution_count": null,
   "metadata": {},
   "outputs": [],
   "source": []
  }
 ],
 "metadata": {
  "kernelspec": {
   "display_name": "Python 3",
   "language": "python",
   "name": "python3"
  },
  "language_info": {
   "codemirror_mode": {
    "name": "ipython",
    "version": 3
   },
   "file_extension": ".py",
   "mimetype": "text/x-python",
   "name": "python",
   "nbconvert_exporter": "python",
   "pygments_lexer": "ipython3",
   "version": "3.7.3"
  }
 },
 "nbformat": 4,
 "nbformat_minor": 2
}
